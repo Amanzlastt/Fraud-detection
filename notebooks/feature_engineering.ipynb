{
 "cells": [
  {
   "cell_type": "code",
   "execution_count": 6,
   "metadata": {},
   "outputs": [],
   "source": [
    "import sys\n",
    "import os\n",
    "\n",
    "path= \"C:\\\\Users\\\\Aman\\\\Desktop\\\\kifyaw8-9\\\\src\"\n",
    "sys.path.append(os.path.abspath(path=path))\n",
    "\n",
    "try:\n",
    "    from data_preprocessing import DataPreprocessing\n",
    "except:\n",
    "    print(\"Import failure\")\n"
   ]
  },
  {
   "cell_type": "code",
   "execution_count": 7,
   "metadata": {},
   "outputs": [],
   "source": [
    "import pandas as pd \n",
    "import numpy as np "
   ]
  },
  {
   "cell_type": "code",
   "execution_count": 8,
   "metadata": {},
   "outputs": [
    {
     "data": {
      "text/html": [
       "<div>\n",
       "<style scoped>\n",
       "    .dataframe tbody tr th:only-of-type {\n",
       "        vertical-align: middle;\n",
       "    }\n",
       "\n",
       "    .dataframe tbody tr th {\n",
       "        vertical-align: top;\n",
       "    }\n",
       "\n",
       "    .dataframe thead th {\n",
       "        text-align: right;\n",
       "    }\n",
       "</style>\n",
       "<table border=\"1\" class=\"dataframe\">\n",
       "  <thead>\n",
       "    <tr style=\"text-align: right;\">\n",
       "      <th></th>\n",
       "      <th>user_id</th>\n",
       "      <th>signup_time</th>\n",
       "      <th>purchase_time</th>\n",
       "      <th>purchase_value</th>\n",
       "      <th>device_id</th>\n",
       "      <th>source</th>\n",
       "      <th>browser</th>\n",
       "      <th>sex</th>\n",
       "      <th>age</th>\n",
       "      <th>ip_address</th>\n",
       "      <th>class</th>\n",
       "      <th>country</th>\n",
       "    </tr>\n",
       "  </thead>\n",
       "  <tbody>\n",
       "    <tr>\n",
       "      <th>0</th>\n",
       "      <td>22058</td>\n",
       "      <td>2015-02-24 22:55:49</td>\n",
       "      <td>2015-04-18 02:47:11</td>\n",
       "      <td>34</td>\n",
       "      <td>QVPSPJUOCKZAR</td>\n",
       "      <td>SEO</td>\n",
       "      <td>Chrome</td>\n",
       "      <td>M</td>\n",
       "      <td>39</td>\n",
       "      <td>732758368</td>\n",
       "      <td>0</td>\n",
       "      <td>Japan</td>\n",
       "    </tr>\n",
       "    <tr>\n",
       "      <th>1</th>\n",
       "      <td>333320</td>\n",
       "      <td>2015-06-07 20:39:50</td>\n",
       "      <td>2015-06-08 01:38:54</td>\n",
       "      <td>16</td>\n",
       "      <td>EOGFQPIZPYXFZ</td>\n",
       "      <td>Ads</td>\n",
       "      <td>Chrome</td>\n",
       "      <td>F</td>\n",
       "      <td>53</td>\n",
       "      <td>350311387</td>\n",
       "      <td>0</td>\n",
       "      <td>United States</td>\n",
       "    </tr>\n",
       "    <tr>\n",
       "      <th>2</th>\n",
       "      <td>1359</td>\n",
       "      <td>2015-01-01 18:52:44</td>\n",
       "      <td>2015-01-01 18:52:45</td>\n",
       "      <td>15</td>\n",
       "      <td>YSSKYOSJHPPLJ</td>\n",
       "      <td>SEO</td>\n",
       "      <td>Opera</td>\n",
       "      <td>M</td>\n",
       "      <td>53</td>\n",
       "      <td>2621473820</td>\n",
       "      <td>1</td>\n",
       "      <td>United States</td>\n",
       "    </tr>\n",
       "    <tr>\n",
       "      <th>3</th>\n",
       "      <td>150084</td>\n",
       "      <td>2015-04-28 21:13:25</td>\n",
       "      <td>2015-05-04 13:54:50</td>\n",
       "      <td>44</td>\n",
       "      <td>ATGTXKYKUDUQN</td>\n",
       "      <td>SEO</td>\n",
       "      <td>Safari</td>\n",
       "      <td>M</td>\n",
       "      <td>41</td>\n",
       "      <td>3840542443</td>\n",
       "      <td>0</td>\n",
       "      <td>NaN</td>\n",
       "    </tr>\n",
       "    <tr>\n",
       "      <th>4</th>\n",
       "      <td>221365</td>\n",
       "      <td>2015-07-21 07:09:52</td>\n",
       "      <td>2015-09-09 18:40:53</td>\n",
       "      <td>39</td>\n",
       "      <td>NAUITBZFJKHWW</td>\n",
       "      <td>Ads</td>\n",
       "      <td>Safari</td>\n",
       "      <td>M</td>\n",
       "      <td>45</td>\n",
       "      <td>415583117</td>\n",
       "      <td>0</td>\n",
       "      <td>United States</td>\n",
       "    </tr>\n",
       "  </tbody>\n",
       "</table>\n",
       "</div>"
      ],
      "text/plain": [
       "   user_id          signup_time        purchase_time  purchase_value  \\\n",
       "0    22058  2015-02-24 22:55:49  2015-04-18 02:47:11              34   \n",
       "1   333320  2015-06-07 20:39:50  2015-06-08 01:38:54              16   \n",
       "2     1359  2015-01-01 18:52:44  2015-01-01 18:52:45              15   \n",
       "3   150084  2015-04-28 21:13:25  2015-05-04 13:54:50              44   \n",
       "4   221365  2015-07-21 07:09:52  2015-09-09 18:40:53              39   \n",
       "\n",
       "       device_id source browser sex  age  ip_address  class        country  \n",
       "0  QVPSPJUOCKZAR    SEO  Chrome   M   39   732758368      0          Japan  \n",
       "1  EOGFQPIZPYXFZ    Ads  Chrome   F   53   350311387      0  United States  \n",
       "2  YSSKYOSJHPPLJ    SEO   Opera   M   53  2621473820      1  United States  \n",
       "3  ATGTXKYKUDUQN    SEO  Safari   M   41  3840542443      0            NaN  \n",
       "4  NAUITBZFJKHWW    Ads  Safari   M   45   415583117      0  United States  "
      ]
     },
     "execution_count": 8,
     "metadata": {},
     "output_type": "execute_result"
    }
   ],
   "source": [
    "df = pd.read_csv(\"C:\\\\Users\\\\Aman\\\\Desktop\\\\kifyaw8-9\\\\data\\\\merged\\\\meged_data.csv\")\n",
    "df.head()"
   ]
  },
  {
   "cell_type": "code",
   "execution_count": 16,
   "metadata": {},
   "outputs": [
    {
     "data": {
      "text/plain": [
       "user_id\n",
       "138208    1\n",
       "22058     1\n",
       "333320    1\n",
       "1359      1\n",
       "150084    1\n",
       "         ..\n",
       "79203     1\n",
       "73884     1\n",
       "199700    1\n",
       "182338    1\n",
       "159045    1\n",
       "Name: count, Length: 151112, dtype: int64"
      ]
     },
     "execution_count": 16,
     "metadata": {},
     "output_type": "execute_result"
    }
   ],
   "source": [
    "df['user_id'].value_counts()"
   ]
  },
  {
   "cell_type": "code",
   "execution_count": 17,
   "metadata": {},
   "outputs": [],
   "source": [
    "preprocessing = DataPreprocessing()"
   ]
  },
  {
   "cell_type": "code",
   "execution_count": 18,
   "metadata": {},
   "outputs": [],
   "source": [
    "# changing to date time object\n",
    "df = preprocessing.to_date(['signup_time','purchase_time'], df)\n"
   ]
  },
  {
   "cell_type": "code",
   "execution_count": 19,
   "metadata": {},
   "outputs": [],
   "source": [
    "#  Sort and compute time differences\n",
    "df = df.sort_values(by=['device_id', 'purchase_time'])\n",
    "df['time_diff'] = df.groupby('device_id')['purchase_time'].diff().dt.total_seconds()\n",
    "\n",
    "# Compute average transaction velocity\n",
    "avg_velocity = df.groupby('device_id')['time_diff'].mean().reset_index(name='avg_transaction_velocity')\n"
   ]
  },
  {
   "cell_type": "code",
   "execution_count": 21,
   "metadata": {},
   "outputs": [
    {
     "data": {
      "text/plain": [
       "array([          nan, 1.0000000e+00, 2.3552430e+06, ..., 1.0333704e+07,\n",
       "       1.1692157e+07, 6.9120360e+06], shape=(6317,))"
      ]
     },
     "execution_count": 21,
     "metadata": {},
     "output_type": "execute_result"
    }
   ],
   "source": [
    "df['time_diff'].unique()"
   ]
  },
  {
   "cell_type": "code",
   "execution_count": 12,
   "metadata": {},
   "outputs": [
    {
     "data": {
      "text/plain": [
       "device_id\n",
       "ITUMJCKWEYNDD    20\n",
       "KIPFSCNUGOLDP    20\n",
       "NGQCKIADMZORL    20\n",
       "ZUSVMDEZRBDTX    20\n",
       "CQTUVBYIWWWBC    20\n",
       "                 ..\n",
       "RTJFFLYZLQDUK     1\n",
       "OAPUOFGZHKBLD     1\n",
       "QOOCCLKFDGFHY     1\n",
       "JRCXMAQYKGQDV     1\n",
       "QRLRXZJWZHXUH     1\n",
       "Name: count, Length: 137956, dtype: int64"
      ]
     },
     "execution_count": 12,
     "metadata": {},
     "output_type": "execute_result"
    }
   ],
   "source": [
    "df['device_id'].value_counts()"
   ]
  },
  {
   "cell_type": "code",
   "execution_count": 9,
   "metadata": {},
   "outputs": [],
   "source": [
    "# df['time_diff'] = df['time_diff'].fillna(0)\n"
   ]
  },
  {
   "cell_type": "code",
   "execution_count": 22,
   "metadata": {},
   "outputs": [],
   "source": [
    "df['hour_of_day'] = df['purchase_time'].dt.hour\n",
    "df['day_of_week'] = df['purchase_time'].dt.dayofweek  # Monday=0, Sunday=6"
   ]
  },
  {
   "cell_type": "code",
   "execution_count": 23,
   "metadata": {},
   "outputs": [],
   "source": [
    "from sklearn.preprocessing import StandardScaler\n",
    "\n",
    "scaler = StandardScaler()\n",
    "df[['purchase_value', 'age', 'time_diff']] = scaler.fit_transform(df[['purchase_value', 'age', 'time_diff']])"
   ]
  },
  {
   "cell_type": "code",
   "execution_count": 24,
   "metadata": {},
   "outputs": [],
   "source": [
    "# Frequency Encoding\n",
    "device_id_freq = df['device_id'].value_counts(normalize=True)\n",
    "df['device_id_encoded'] = df['device_id'].map(device_id_freq)"
   ]
  },
  {
   "cell_type": "code",
   "execution_count": 30,
   "metadata": {},
   "outputs": [
    {
     "data": {
      "text/plain": [
       "proportion\n",
       "0.000007    131781\n",
       "0.000013      5327\n",
       "0.000073       101\n",
       "0.000066        92\n",
       "0.000079        90\n",
       "0.000020        90\n",
       "0.000060        78\n",
       "0.000053        69\n",
       "0.000086        64\n",
       "0.000093        57\n",
       "0.000046        50\n",
       "0.000099        41\n",
       "0.000106        36\n",
       "0.000040        29\n",
       "0.000033        13\n",
       "0.000112        13\n",
       "0.000119        10\n",
       "0.000132         6\n",
       "0.000126         5\n",
       "0.000026         4\n",
       "Name: count, dtype: int64"
      ]
     },
     "execution_count": 30,
     "metadata": {},
     "output_type": "execute_result"
    }
   ],
   "source": [
    "device_id_freq.value_counts()"
   ]
  },
  {
   "cell_type": "code",
   "execution_count": 25,
   "metadata": {},
   "outputs": [
    {
     "name": "stdout",
     "output_type": "stream",
     "text": [
      "<class 'pandas.core.frame.DataFrame'>\n",
      "Index: 151112 entries, 34321 to 54293\n",
      "Data columns (total 16 columns):\n",
      " #   Column             Non-Null Count   Dtype         \n",
      "---  ------             --------------   -----         \n",
      " 0   user_id            151112 non-null  int64         \n",
      " 1   signup_time        151112 non-null  datetime64[ns]\n",
      " 2   purchase_time      151112 non-null  datetime64[ns]\n",
      " 3   purchase_value     151112 non-null  float64       \n",
      " 4   device_id          151112 non-null  object        \n",
      " 5   source             151112 non-null  object        \n",
      " 6   browser            151112 non-null  object        \n",
      " 7   sex                151112 non-null  object        \n",
      " 8   age                151112 non-null  float64       \n",
      " 9   ip_address         151112 non-null  int64         \n",
      " 10  class              151112 non-null  int64         \n",
      " 11  country            129146 non-null  object        \n",
      " 12  time_diff          13156 non-null   float64       \n",
      " 13  hour_of_day        151112 non-null  int32         \n",
      " 14  day_of_week        151112 non-null  int32         \n",
      " 15  device_id_encoded  151112 non-null  float64       \n",
      "dtypes: datetime64[ns](2), float64(4), int32(2), int64(3), object(5)\n",
      "memory usage: 18.4+ MB\n"
     ]
    }
   ],
   "source": [
    "df.info()"
   ]
  },
  {
   "cell_type": "code",
   "execution_count": 14,
   "metadata": {},
   "outputs": [],
   "source": [
    "# import pandas as pd\n",
    "\n",
    "# # Sample DataFrame\n",
    "# data = {\n",
    "#     'user_id': [1, 1, 1, 2, 2],\n",
    "#     'purchase_time': ['2024-02-10 10:00:00', '2024-02-10 10:05:00', \n",
    "#                       '2024-02-10 10:15:00', '2024-02-10 11:00:00', '2024-02-10 11:30:00']\n",
    "# }\n",
    "\n",
    "# df = pd.DataFrame(data)\n",
    "\n",
    "# # Convert to datetime\n",
    "# df['purchase_time'] = pd.to_datetime(df['purchase_time'])\n",
    "\n",
    "# # Sort and compute time differences\n",
    "# df = df.sort_values(by=['user_id', 'purchase_time'])\n",
    "# df['time_diff'] = df.groupby('user_id')['purchase_time'].diff().dt.total_seconds()\n",
    "\n",
    "# # Compute average transaction velocity\n",
    "# avg_velocity = df.groupby('user_id')['time_diff'].mean().reset_index(name='avg_transaction_velocity')\n",
    "\n",
    "# print(avg_velocity)\n"
   ]
  },
  {
   "cell_type": "code",
   "execution_count": 29,
   "metadata": {},
   "outputs": [
    {
     "data": {
      "text/plain": [
       "array([0.])"
      ]
     },
     "execution_count": 29,
     "metadata": {},
     "output_type": "execute_result"
    }
   ],
   "source": [
    "encoded = pd.read_csv(\"C:\\\\Users\\\\Aman\\\\Desktop\\\\kifyaw8-9\\\\data\\\\processed\\\\encoded_froud_data.csv\")\n",
    "encoded.time_diff.unique()"
   ]
  },
  {
   "cell_type": "code",
   "execution_count": null,
   "metadata": {},
   "outputs": [],
   "source": []
  }
 ],
 "metadata": {
  "kernelspec": {
   "display_name": ".venv",
   "language": "python",
   "name": "python3"
  },
  "language_info": {
   "codemirror_mode": {
    "name": "ipython",
    "version": 3
   },
   "file_extension": ".py",
   "mimetype": "text/x-python",
   "name": "python",
   "nbconvert_exporter": "python",
   "pygments_lexer": "ipython3",
   "version": "3.11.9"
  }
 },
 "nbformat": 4,
 "nbformat_minor": 2
}
